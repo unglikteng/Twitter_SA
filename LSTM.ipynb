{
 "cells": [
  {
   "cell_type": "code",
   "execution_count": 1,
   "metadata": {
    "collapsed": true
   },
   "outputs": [],
   "source": [
    "import numpy as np\n",
    "import pandas as pd\n",
    "import matplotlib.pyplot as plt\n",
    "import tensorflow as tf \n",
    "from sklearn.model_selection import train_test_split\n",
    "from sklearn.model_selection import KFold\n",
    "from random import randint\n",
    "\n",
    "%matplotlib inline"
   ]
  },
  {
   "cell_type": "markdown",
   "metadata": {},
   "source": [
    "# Word2Vec\n",
    "\n",
    "We want to create words vectors so that our deep learning model will be able to process the text data. \n",
    "\n",
    "For simplicity sake, I will be using a pre-trained Word2Vec model to create word vectors for my twitter dataset \n",
    "\n",
    "## GloVe\n",
    "I will be using a pre-trained model, [GloVe](http://nlp.stanford.edu/projects/glove/), which is much more manageable as compared to Google's Word2Vec model. \n",
    "\n",
    "GloVe provides a couple of options, and I will use the matrix that contains 400,000 word vectors (each with a dimensionality of 50) for faster training process"
   ]
  },
  {
   "cell_type": "code",
   "execution_count": 2,
   "metadata": {},
   "outputs": [
    {
     "name": "stdout",
     "output_type": "stream",
     "text": [
      "Word List successfully loaded.\n",
      "Word Vectors successfully loaded.\n"
     ]
    }
   ],
   "source": [
    "wordslist = np.load('C:\\\\Users\\\\Ung Lik Teng\\\\Desktop\\\\CodenData\\\\Machine Learning\\\\NLP\\\\LSTM-Sentiment-Analysis\\\\wordsList.npy')\n",
    "print(\"Word List successfully loaded.\")\n",
    "\n",
    "wordslist = wordslist.tolist()\n",
    "wordslist = [word.decode('UTF-8') for word in wordslist]\n",
    "\n",
    "wordvectors = np.load('C:\\\\Users\\\\Ung Lik Teng\\\\Desktop\\\\CodenData\\\\Machine Learning\\\\NLP\\\\LSTM-Sentiment-Analysis\\\\wordVectors.npy')\n",
    "print(\"Word Vectors successfully loaded.\")\n"
   ]
  },
  {
   "cell_type": "code",
   "execution_count": 3,
   "metadata": {
    "collapsed": true
   },
   "outputs": [],
   "source": [
    "df_model = pd.read_csv(\"C:/Users/Ung Lik Teng/Desktop/CodenData/Machine Learning/NLP/cleaned.csv\")"
   ]
  },
  {
   "cell_type": "code",
   "execution_count": 4,
   "metadata": {},
   "outputs": [
    {
     "name": "stdout",
     "output_type": "stream",
     "text": [
      "Total number of tweets: 99989\n",
      "Total number of words: 693111\n",
      "Average number of words per tweets: 6.93187250598\n"
     ]
    }
   ],
   "source": [
    "num_words = sum(df_model.clean_count_words.values)\n",
    "num_tweets = df_model.shape[0]\n",
    "print('Total number of tweets:', num_tweets)\n",
    "print('Total number of words:', num_words)\n",
    "print('Average number of words per tweets:', num_words/num_tweets)"
   ]
  },
  {
   "cell_type": "code",
   "execution_count": 5,
   "metadata": {},
   "outputs": [
    {
     "data": {
      "text/plain": [
       "Text(0,0.5,'Frequency')"
      ]
     },
     "execution_count": 5,
     "metadata": {},
     "output_type": "execute_result"
    },
    {
     "data": {
      "image/png": "[encoded data removed]",
      "text/plain": [
       "<matplotlib.figure.Figure at 0x1f5413fa710>"
      ]
     },
     "metadata": {},
     "output_type": "display_data"
    }
   ],
   "source": [
    "plt.hist(df_model.clean_count_words.values,50)\n",
    "plt.xlabel('Sequence Length')\n",
    "plt.ylabel('Frequency')"
   ]
  },
  {
   "cell_type": "markdown",
   "metadata": {},
   "source": [
    "Based on the average number of words per tweets and the histogram, it's safe to say most tweets will fall under 10 words after cleaning."
   ]
  },
  {
   "cell_type": "code",
   "execution_count": 6,
   "metadata": {
    "collapsed": true
   },
   "outputs": [],
   "source": [
    "SeqLength = 10"
   ]
  },
  {
   "cell_type": "code",
   "execution_count": 7,
   "metadata": {
    "collapsed": true
   },
   "outputs": [],
   "source": [
    "df_small = df_model.sample(200)\n",
    "df_small = df_small.reset_index(drop=True)\n",
    "text_only = df_small.clean_text\n",
    "text_only = text_only.reset_index(drop = True)"
   ]
  },
  {
   "cell_type": "code",
   "execution_count": 8,
   "metadata": {
    "collapsed": true
   },
   "outputs": [],
   "source": [
    "text_only = text_only.tolist()"
   ]
  },
  {
   "cell_type": "markdown",
   "metadata": {},
   "source": [
    "# Creating ids/ Word Vectors for all tweets  "
   ]
  },
  {
   "cell_type": "code",
   "execution_count": 9,
   "metadata": {
    "collapsed": true
   },
   "outputs": [],
   "source": [
    "ids = np.zeros((250, 10), dtype = 'int32')"
   ]
  },
  {
   "cell_type": "code",
   "execution_count": 10,
   "metadata": {
    "collapsed": true
   },
   "outputs": [],
   "source": [
    "tweet_index = 0\n",
    "\n",
    "for tweet in text_only:\n",
    "    seq_index = 0\n",
    "    for word in tweet.split():\n",
    "        try:\n",
    "            ids[tweet_index][seq_index] = wordslist.index(word)\n",
    "        except ValueError:\n",
    "            ids[tweet_index][seq_index] = 399999\n",
    "        seq_index = seq_index + 1\n",
    "        if seq_index >= SeqLength:\n",
    "            break\n",
    "    tweet_index = tweet_index + 1"
   ]
  },
  {
   "cell_type": "code",
   "execution_count": 11,
   "metadata": {},
   "outputs": [
    {
     "data": {
      "text/plain": [
       "array([[ 30632,   7392,    413, ...,      0,      0,      0],\n",
       "       [  1906, 399999, 399999, ...,    974, 399999, 399999],\n",
       "       [  2357,    117,  14115, ...,      0,      0,      0],\n",
       "       ..., \n",
       "       [     0,      0,      0, ...,      0,      0,      0],\n",
       "       [     0,      0,      0, ...,      0,      0,      0],\n",
       "       [     0,      0,      0, ...,      0,      0,      0]])"
      ]
     },
     "execution_count": 11,
     "metadata": {},
     "output_type": "execute_result"
    }
   ],
   "source": [
    "## Check if ids matrix is created correctly \n",
    "ids"
   ]
  },
  {
   "cell_type": "code",
   "execution_count": 12,
   "metadata": {},
   "outputs": [
    {
     "data": {
      "text/plain": [
       "array([1, 0, 0, 1, 0, 0, 1, 1, 0, 1, 0, 1, 0, 1, 1, 0, 0, 0, 0, 1, 0, 1, 1,\n",
       "       1, 1, 0, 1, 0, 0, 1, 1, 0, 1, 1, 1, 0, 1, 0, 1, 0, 1, 1, 0, 0, 0, 1,\n",
       "       1, 1, 1, 1, 1, 1, 1, 1, 0, 1, 0, 0, 1, 0, 0, 1, 0, 0, 1, 0, 0, 1, 1,\n",
       "       0, 0, 1, 1, 1, 1, 1, 1, 1, 1, 0, 1, 0, 1, 1, 1, 1, 1, 0, 1, 1, 1, 0,\n",
       "       0, 1, 0, 1, 0, 0, 1, 0, 1, 1, 0, 1, 0, 0, 1, 0, 1, 0, 1, 1, 1, 1, 1,\n",
       "       1, 0, 0, 0, 0, 0, 1, 1, 1, 0, 1, 1, 1, 0, 1, 1, 1, 0, 1, 0, 1, 0, 0,\n",
       "       1, 0, 0, 1, 1, 1, 1, 0, 1, 1, 1, 1, 0, 1, 0, 0, 0, 1, 0, 1, 0, 1, 1,\n",
       "       0, 1, 1, 0, 0, 0, 0, 1, 1, 0, 0, 0, 1, 1, 1, 1, 1, 1, 1, 1, 1, 0, 1,\n",
       "       0, 1, 0, 1, 1, 0, 1, 0, 1, 1, 1, 0, 1, 1, 1, 0], dtype=int64)"
      ]
     },
     "execution_count": 12,
     "metadata": {},
     "output_type": "execute_result"
    }
   ],
   "source": [
    "df_small.Sentiment.values"
   ]
  },
  {
   "cell_type": "code",
   "execution_count": 13,
   "metadata": {
    "collapsed": true
   },
   "outputs": [],
   "source": [
    "# Defining Helper functiom \n",
    "from random import randint\n",
    "\n",
    "def getTrainBatch():\n",
    "    labels = []\n",
    "    arr = np.zeros([batchSize, SeqLength])\n",
    "    for i in range(batchSize):\n",
    "        num = randint(1,160)\n",
    "        if (df_small.Sentiment.values[num-1] == 1):\n",
    "            labels.append([1,0])\n",
    "        else:\n",
    "            labels.append([0,1])\n",
    "        arr[i-1] = ids[num-1:num]\n",
    "    return arr, labels\n",
    "\n",
    "def getTestBatch():\n",
    "    labels = []\n",
    "    arr = np.zeros([batchSize, SeqLength])\n",
    "    for i in range(batchSize):\n",
    "        num = randint(161,200)\n",
    "        if (df_small.Sentiment.values[num-1] == 1):\n",
    "            labels.append([1,0])\n",
    "        else:\n",
    "            labels.append([0,1])\n",
    "        arr[i-1] = ids[num-1:num]\n",
    "    return arr, labels"
   ]
  },
  {
   "cell_type": "markdown",
   "metadata": {},
   "source": [
    "## Building the LSTM Model "
   ]
  },
  {
   "cell_type": "code",
   "execution_count": 14,
   "metadata": {
    "collapsed": true
   },
   "outputs": [],
   "source": [
    "## Defining Hyperparameters \n",
    "batchSize = 20\n",
    "lstmUnits = 64\n",
    "numClasses = 2\n",
    "iterations = 100000\n",
    "learning_rate = 0.001"
   ]
  },
  {
   "cell_type": "code",
   "execution_count": 15,
   "metadata": {
    "collapsed": true
   },
   "outputs": [],
   "source": [
    "## Defining Constant\n",
    "SeqLength = 10\n",
    "embedding_dim = 50"
   ]
  },
  {
   "cell_type": "code",
   "execution_count": 16,
   "metadata": {
    "collapsed": true
   },
   "outputs": [],
   "source": [
    "##Defining Placeholder\n",
    "labels = tf.placeholder(tf.float32, [batchSize, numClasses])\n",
    "input_data = tf.placeholder(tf.int32, [batchSize, SeqLength])"
   ]
  },
  {
   "cell_type": "code",
   "execution_count": 17,
   "metadata": {
    "collapsed": true
   },
   "outputs": [],
   "source": [
    "##Defining Data\n",
    "data = tf.Variable(tf.zeros([batchSize, SeqLength, embedding_dim]),dtype=tf.float32)\n",
    "data = tf.nn.embedding_lookup(wordvectors,input_data)"
   ]
  },
  {
   "cell_type": "code",
   "execution_count": 18,
   "metadata": {
    "collapsed": true
   },
   "outputs": [],
   "source": [
    "#Definint LSTM Cell\n",
    "lstm_cell = tf.contrib.rnn.BasicLSTMCell(lstmUnits)\n",
    "lstm_cell = tf.contrib.rnn.DropoutWrapper(cell=lstm_cell, output_keep_prob= 0.75)\n",
    "value, _ = tf.nn.dynamic_rnn(lstm_cell, data, dtype=tf.float32)"
   ]
  },
  {
   "cell_type": "code",
   "execution_count": 19,
   "metadata": {
    "collapsed": true
   },
   "outputs": [],
   "source": [
    "weight = tf.Variable(tf.truncated_normal([lstmUnits, numClasses]))\n",
    "bias = tf.Variable(tf.constant(0.1, shape= [numClasses]))\n",
    "value = tf.transpose(value, [1,0,2])\n",
    "last = tf.gather(value, int(value.get_shape()[0])-1)\n",
    "prediction = (tf.matmul(last,weight)+ bias)"
   ]
  },
  {
   "cell_type": "code",
   "execution_count": 20,
   "metadata": {
    "collapsed": true
   },
   "outputs": [],
   "source": [
    "correct_pred = tf.equal(tf.argmax(prediction,1), tf.argmax(labels,1))\n",
    "accuracy = tf.reduce_mean(tf.cast(correct_pred,tf.float32))"
   ]
  },
  {
   "cell_type": "code",
   "execution_count": 22,
   "metadata": {},
   "outputs": [
    {
     "name": "stdout",
     "output_type": "stream",
     "text": [
      "WARNING:tensorflow:From <ipython-input-22-42c76bf4ef6d>:1: softmax_cross_entropy_with_logits (from tensorflow.python.ops.nn_ops) is deprecated and will be removed in a future version.\n",
      "Instructions for updating:\n",
      "\n",
      "Future major versions of TensorFlow will allow gradients to flow\n",
      "into the labels input on backprop by default.\n",
      "\n",
      "See @{tf.nn.softmax_cross_entropy_with_logits_v2}.\n",
      "\n"
     ]
    }
   ],
   "source": [
    "loss = tf.reduce_mean(tf.nn.softmax_cross_entropy_with_logits(logits = prediction, labels= labels))\n",
    "optimizer = tf.train.AdamOptimizer(learning_rate).minimize(loss)"
   ]
  },
  {
   "cell_type": "code",
   "execution_count": 23,
   "metadata": {
    "collapsed": true
   },
   "outputs": [],
   "source": [
    "sess = tf.InteractiveSession()"
   ]
  },
  {
   "cell_type": "code",
   "execution_count": 24,
   "metadata": {
    "collapsed": true
   },
   "outputs": [],
   "source": [
    "sess.run(tf.global_variables_initializer())\n",
    "\n",
    "for i in range(iterations):\n",
    "    #Next Batch of reviews\n",
    "    nextBatch, nextBatchLabels = getTrainBatch();\n",
    "    sess.run(optimizer, {input_data: nextBatch, labels: nextBatchLabels})   "
   ]
  },
  {
   "cell_type": "code",
   "execution_count": 27,
   "metadata": {},
   "outputs": [
    {
     "name": "stdout",
     "output_type": "stream",
     "text": [
      "Accuracy for this batch: 64.9999976158\n",
      "Accuracy for this batch: 64.9999976158\n",
      "Accuracy for this batch: 40.000000596\n",
      "Accuracy for this batch: 69.9999988079\n",
      "Accuracy for this batch: 60.0000023842\n",
      "Accuracy for this batch: 75.0\n",
      "Accuracy for this batch: 64.9999976158\n",
      "Accuracy for this batch: 85.0000023842\n",
      "Accuracy for this batch: 64.9999976158\n",
      "Accuracy for this batch: 50.0\n"
     ]
    }
   ],
   "source": [
    "sess.run(tf.global_variables_initializer())\n",
    "iterations = 10\n",
    "for i in range(iterations):\n",
    "    nextBatch, nextBatchLabels = getTestBatch();\n",
    "    print(\"Accuracy for this batch:\", (sess.run(accuracy, {input_data: nextBatch, labels: nextBatchLabels})) * 100)"
   ]
  }
 ],
 "metadata": {
  "kernelspec": {
   "display_name": "Python 3",
   "language": "python",
   "name": "python3"
  }
 },
 "nbformat": 4,
 "nbformat_minor": 2
}
